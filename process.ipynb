{
 "cells": [
  {
   "cell_type": "code",
   "execution_count": 1,
   "metadata": {},
   "outputs": [],
   "source": [
    "import pyfeats\n",
    "from typing import *\n",
    "import numpy as np\n",
    "import pandas as pd\n",
    "import PIL"
   ]
  },
  {
   "cell_type": "code",
   "execution_count": null,
   "metadata": {},
   "outputs": [
    {
     "name": "stdout",
     "output_type": "stream",
     "text": [
      "{'12': 0, '13': 1, '14': 2}\n",
      "torch.Size([32, 3, 128, 128]) torch.Size([32])\n"
     ]
    }
   ],
   "source": [
    "import torch\n",
    "from torchvision import datasets, transforms\n",
    "from torch.utils.data import DataLoader\n",
    "import os\n",
    "root_folder = \"C:\\\\Users\\\\trong\\\\Documents\\\\skin_data\"\n",
    "\n",
    "# Define image transformations\n",
    "transform = transforms.Compose([\n",
    "    transforms.Resize((128, 128)),  # Resize images to 128x128\n",
    "    transforms.ToTensor(),  # Convert to tensor\n",
    "    pyfeats.fos\n",
    "    # transforms.Normalize(mean=[0.5, 0.5, 0.5], std=[0.5, 0.5, 0.5])  # Normalize\n",
    "])\n",
    "\n",
    "# Load dataset\n",
    "train_dataset = datasets.ImageFolder(root=os.path.join(root_folder,\"train\"), transform=transform)\n",
    "test_dataset = datasets.ImageFolder(root=os.path.join(root_folder,'test'), transform=transform)\n",
    "\n",
    "# Create DataLoaders\n",
    "train_loader = DataLoader(train_dataset, batch_size=32, shuffle=True, num_workers=4)\n",
    "test_loader = DataLoader(test_dataset, batch_size=32, shuffle=False, num_workers=4)\n",
    "\n",
    "# Print class mapping\n",
    "print(train_dataset.class_to_idx)  # Example output: {'cat': 0, 'dog': 1}\n",
    "\n",
    "# Check one batch\n",
    "images, labels = next(iter(train_loader))\n",
    "print(images.shape, labels.shape)  # Output: torch.Size([32, 3, 128, 128]), torch.Size([32])\n"
   ]
  },
  {
   "cell_type": "code",
   "execution_count": null,
   "metadata": {},
   "outputs": [],
   "source": [
    "def transform_image(images: List[Image], func: Callable) -> List[Image]:\n",
    "    \"\"\"\n",
    "    Apply a transformation function to each image in the list.\n",
    "    :param images: List of PIL Image objects.\n",
    "    :param func: Transformation function to apply.\n",
    "    :return: List of transformed PIL Image objects.\n",
    "    \"\"\"\n",
    "    return [func(image) for image in images]"
   ]
  },
  {
   "cell_type": "code",
   "execution_count": 2,
   "metadata": {},
   "outputs": [
    {
     "name": "stdout",
     "output_type": "stream",
     "text": [
      "(16,)\n"
     ]
    }
   ],
   "source": [
    "import cv2\n",
    "import os\n",
    "import numpy as np\n",
    "\n",
    "path = \"C:\\\\Users\\\\trong\\\\Documents\\\\skin_data\\\\train\\\\12\"\n",
    "image_path = os.path.join(path, os.listdir(path)[0])\n",
    "\n",
    "# Read image from file\n",
    "image = cv2.imread(image_path)\n",
    "\n",
    "# Convert image to gray scale using OpenCV function\n",
    "gray_scale_image  = cv2.cvtColor(image, cv2.COLOR_BGR2GRAY)\n",
    "\n",
    "mask = np.ones_like(gray_scale_image)\n",
    "\n",
    "features, labels = pyfeats.fos(gray_scale_image, mask)\n",
    "print(features.shape)  # Output: (108, 32)"
   ]
  },
  {
   "cell_type": "code",
   "execution_count": 15,
   "metadata": {},
   "outputs": [
    {
     "data": {
      "text/plain": [
       "array([5.31498725e-04, 1.22447954e+02, 2.70941478e-02, 5.84018510e+00,\n",
       "       8.77578731e-02, 2.72871899e-01, 1.44467014e+02, 1.57615324e-02,\n",
       "       5.84728898e-01, 1.65746668e-04, 5.74878258e-01, 8.09330504e-02,\n",
       "       3.69699520e-03, 1.05741976e+00])"
      ]
     },
     "execution_count": 15,
     "metadata": {},
     "output_type": "execute_result"
    }
   ],
   "source": [
    "features_mean, features_range, labels_mean, labels_range = pyfeats.glcm_features(gray_scale_image, ignore_zeros=True)  \n",
    "features_range"
   ]
  },
  {
   "cell_type": "code",
   "execution_count": 4,
   "metadata": {},
   "outputs": [
    {
     "data": {
      "text/plain": [
       "{'features_mean': array([ 2.11011152e-03,  1.83801877e+02,  9.59454235e-01,  2.26727546e+03,\n",
       "         3.10283709e-01,  2.68529288e+02,  8.88529997e+03,  8.12759072e+00,\n",
       "         1.19290917e+01,  3.62658479e-04,  4.34158286e+00, -3.47488511e-01,\n",
       "         9.96309876e-01,  5.09193766e+00]),\n",
       " 'features_range': array([5.31498725e-04, 1.22447954e+02, 2.70941478e-02, 5.84018510e+00,\n",
       "        8.77578731e-02, 2.72871899e-01, 1.44467014e+02, 1.57615324e-02,\n",
       "        5.84728898e-01, 1.65746668e-04, 5.74878258e-01, 8.09330504e-02,\n",
       "        3.69699520e-03, 1.05741976e+00]),\n",
       " 'labels_mean': ['GLCM_ASM_Mean',\n",
       "  'GLCM_Contrast_Mean',\n",
       "  'GLCM_Correlation_Mean',\n",
       "  'GLCM_SumOfSquaresVariance_Mean',\n",
       "  'GLCM_InverseDifferenceMoment_Mean',\n",
       "  'GLCM_SumAverage_Mean',\n",
       "  'GLCM_SumVariance_Mean',\n",
       "  'GLCM_SumEntropy_Mean',\n",
       "  'GLCM_Entropy_Mean',\n",
       "  'GLCM_DifferenceVariance_Mean',\n",
       "  'GLCM_DifferenceEntropy_Mean',\n",
       "  'GLCM_Information1_Mean',\n",
       "  'GLCM_Information2_Mean',\n",
       "  'GLCM_MaximalCorrelationCoefficient_Mean'],\n",
       " 'labels_range': ['GLCM_ASM_Range',\n",
       "  'GLCM_Contrast_Range',\n",
       "  'GLCM_Correlation_Range',\n",
       "  'GLCM_SumOfSquaresVariance_Range',\n",
       "  'GLCM_InverseDifferenceMoment_Range',\n",
       "  'GLCM_SumAverage_Range',\n",
       "  'GLCM_SumVariance_Range',\n",
       "  'GLCM_SumEntropy_Range',\n",
       "  'GLCM_Entropy_Range',\n",
       "  'GLCM_DifferenceVariance_Range',\n",
       "  'GLCM_DifferenceEntropy_Range',\n",
       "  'GLCM_Information1_Range',\n",
       "  'GLCM_Information2_Range',\n",
       "  'GLCM_MaximalCorrelationCoefficient_Range']}"
      ]
     },
     "execution_count": 4,
     "metadata": {},
     "output_type": "execute_result"
    }
   ],
   "source": [
    "from utils import LowLevelFeatureExtractor\n",
    "\n",
    "llf = LowLevelFeatureExtractor(function=pyfeats.glcm_features, \n",
    "                               params={'ignore_zeros': True}, \n",
    "                               features_set=['features_mean', 'features_range', 'labels_mean', 'labels_range'])\n",
    "\n",
    "# params = {'ignore_zeros': True}\n",
    "llf(gray_scale_image)\n"
   ]
  }
 ],
 "metadata": {
  "kernelspec": {
   "display_name": "base",
   "language": "python",
   "name": "python3"
  },
  "language_info": {
   "codemirror_mode": {
    "name": "ipython",
    "version": 3
   },
   "file_extension": ".py",
   "mimetype": "text/x-python",
   "name": "python",
   "nbconvert_exporter": "python",
   "pygments_lexer": "ipython3",
   "version": "3.12.7"
  }
 },
 "nbformat": 4,
 "nbformat_minor": 2
}

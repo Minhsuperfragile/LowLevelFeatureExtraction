{
 "cells": [
  {
   "cell_type": "code",
   "execution_count": 1,
   "metadata": {},
   "outputs": [],
   "source": [
    "import pyfeats\n",
    "from typing import *\n",
    "from torchvision import datasets, transforms\n",
    "from torch.utils.data import DataLoader\n",
    "import os\n",
    "from utils import *"
   ]
  },
  {
   "cell_type": "code",
   "execution_count": 6,
   "metadata": {},
   "outputs": [],
   "source": [
    "llf = LowLevelFeatureExtractor(**param_list[10])\n",
    "\n",
    "# root_folder = \"C:\\\\Users\\\\trong\\\\Documents\\\\skin_data\"\n",
    "root_folder = \"/mnt/c/Users/trong/Documents/skin_data\" "
   ]
  },
  {
   "cell_type": "code",
   "execution_count": 4,
   "metadata": {},
   "outputs": [],
   "source": [
    "# Define image transformations\n",
    "transform = transforms.Compose([\n",
    "    transforms.Resize((128, 128)),  # Resize images to 128x128\n",
    "    transforms.Grayscale(num_output_channels=1),    # Convert to grayscale\n",
    "    ToNumpy(),  # Convert to tensor\n",
    "])"
   ]
  },
  {
   "cell_type": "code",
   "execution_count": 8,
   "metadata": {},
   "outputs": [
    {
     "name": "stdout",
     "output_type": "stream",
     "text": [
      "torch.Size([32, 128, 128])\n",
      "torch.Size([32, 6])\n",
      "torch.Size([32])\n"
     ]
    }
   ],
   "source": [
    "train_dataset = CSVImageMetadataDataset(csv_file='./data/linux/vaynen_train_linux.csv', root_dir=root_folder, transform=transform)\n",
    "train_dataloader = DataLoader(train_dataset, batch_size=32, shuffle=True, num_workers=4)   \n",
    "\n",
    "test_dataset = CSVImageMetadataDataset(csv_file='./data/linux/vaynen_test_linux.csv', root_dir=root_folder, transform=transform)\n",
    "test_dataloader = DataLoader(test_dataset, batch_size=32, shuffle=False, num_workers=4)\n",
    "\n",
    "# Check one batch\n",
    "images, metadata, labels = next(iter(train_dataloader))\n",
    "print(images.shape)  # Example: torch.Size([32, 3, 128, 128])\n",
    "print(metadata.shape)  # Example: torch.Size([32, 6])  -> 6 metadata features\n",
    "print(labels.shape)  # Example: torch.Size([32])"
   ]
  },
  {
   "cell_type": "code",
   "execution_count": 7,
   "metadata": {},
   "outputs": [
    {
     "name": "stdout",
     "output_type": "stream",
     "text": [
      "torch.Size([32, 0])\n",
      "torch.Size([32, 22])\n",
      "torch.Size([32])\n"
     ]
    }
   ],
   "source": [
    "train_dataset = CSVMetadataDataset(csv_file=\"./data/fos/vaynen_train_fos.csv\", root_dir=root_folder)\n",
    "train_dataloader = DataLoader(train_dataset, batch_size=32, shuffle=True, num_workers=4)   \n",
    "\n",
    "test_dataset = CSVMetadataDataset(csv_file=\"./data/fos/vaynen_test_fos.csv\", root_dir=root_folder)\n",
    "test_dataloader = DataLoader(test_dataset, batch_size=32, shuffle=False, num_workers=4)\n",
    "\n",
    "# Check one batch\n",
    "images, metadata, labels = next(iter(train_dataloader))\n",
    "print(images.shape)  # Example: torch.Size([32, 3, 128, 128])\n",
    "print(metadata.shape)  # Example: torch.Size([32, 6])  -> 6 metadata features\n",
    "print(labels.shape)  # Example: torch.Size([32])"
   ]
  },
  {
   "cell_type": "code",
   "execution_count": 4,
   "metadata": {},
   "outputs": [
    {
     "name": "stdout",
     "output_type": "stream",
     "text": [
      "SimpleNeuralNetwork(\n",
      "  (fc1): Linear(in_features=22, out_features=64, bias=True)\n",
      "  (relu): ReLU()\n",
      "  (fc2): Linear(in_features=64, out_features=3, bias=True)\n",
      "  (softmax): Softmax(dim=1)\n",
      "  (swish): SwishActivation()\n",
      "  (batchNorm): BatchNorm1d(64, eps=1e-05, momentum=0.1, affine=True, track_running_stats=True)\n",
      "  (dropout): Dropout(p=0.3, inplace=False)\n",
      "  (sigmoid): Sigmoid()\n",
      ")\n"
     ]
    }
   ],
   "source": [
    "model = SimpleNeuralNetwork(inputs = llf.get_features_size())\n",
    "\n",
    "# Check the model's architecture\n",
    "print(model)"
   ]
  },
  {
   "cell_type": "code",
   "execution_count": 5,
   "metadata": {},
   "outputs": [
    {
     "name": "stdout",
     "output_type": "stream",
     "text": [
      "Training model using cuda\n"
     ]
    },
    {
     "name": "stderr",
     "output_type": "stream",
     "text": [
      "Epoch 30, Loss: 0.015433703656120701: 100%|██████████| 30/30 [00:58<00:00,  1.97s/it]"
     ]
    },
    {
     "name": "stdout",
     "output_type": "stream",
     "text": [
      "Training on fos complete!\n"
     ]
    },
    {
     "name": "stderr",
     "output_type": "stream",
     "text": [
      "\n"
     ]
    }
   ],
   "source": [
    "train_model(model, train_dataloader, epochs=30, llf=llf ,features_set=llf.function.__name__, ) #10 - 15 is already enough"
   ]
  },
  {
   "cell_type": "code",
   "execution_count": 6,
   "metadata": {},
   "outputs": [
    {
     "data": {
      "text/plain": [
       "'Accuracy: 71.7094017094017% On fos'"
      ]
     },
     "execution_count": 6,
     "metadata": {},
     "output_type": "execute_result"
    }
   ],
   "source": [
    "evaluate_model(model, test_dataloader,llf=llf, features_set=llf.function.__name__)"
   ]
  },
  {
   "cell_type": "code",
   "execution_count": 27,
   "metadata": {},
   "outputs": [],
   "source": [
    "image_path = \"/mnt/c/Users/trong/Documents/skin_data/train/12/image_uuid_000e1f2d-7442-4cdb-89d0-b8350ecdebbb_created_by_haianh.31297_MTwJXvl.png\"\n",
    "\n",
    "p = transform(Image.open(image_path))"
   ]
  },
  {
   "cell_type": "code",
   "execution_count": 30,
   "metadata": {},
   "outputs": [
    {
     "name": "stdout",
     "output_type": "stream",
     "text": [
      "hog_features\n"
     ]
    },
    {
     "data": {
      "text/plain": [
       "array([0.14839619, 0.11355118, 0.20146944, ..., 0.08740602, 0.01744466,\n",
       "       0.06479176])"
      ]
     },
     "execution_count": 30,
     "metadata": {},
     "output_type": "execute_result"
    }
   ],
   "source": [
    "llf = LowLevelFeatureExtractor(**param_list[22])\n",
    "\n",
    "print(llf.function.__name__)\n",
    "\n",
    "llf.process_single_image(np.array(p))"
   ]
  },
  {
   "cell_type": "code",
   "execution_count": 10,
   "metadata": {},
   "outputs": [
    {
     "data": {
      "text/plain": [
       "numpy.ndarray"
      ]
     },
     "execution_count": 10,
     "metadata": {},
     "output_type": "execute_result"
    }
   ],
   "source": [
    "import cv2\n",
    "\n",
    "type(cv2.resize(np.array(images[0]), (256, 256)))"
   ]
  },
  {
   "cell_type": "code",
   "execution_count": 4,
   "metadata": {},
   "outputs": [
    {
     "data": {
      "text/plain": [
       "21"
      ]
     },
     "execution_count": 4,
     "metadata": {},
     "output_type": "execute_result"
    }
   ],
   "source": [
    "len(param_list)"
   ]
  },
  {
   "cell_type": "code",
   "execution_count": 23,
   "metadata": {},
   "outputs": [
    {
     "data": {
      "text/plain": [
       "(54,)"
      ]
     },
     "execution_count": 23,
     "metadata": {},
     "output_type": "execute_result"
    }
   ],
   "source": [
    "p =np.random.randint(0,256,size=(100,100)).astype('uint8')\n",
    "llf.process_single_image(np.array(p)).shape\n"
   ]
  },
  {
   "cell_type": "code",
   "execution_count": null,
   "metadata": {},
   "outputs": [],
   "source": [
    "data_folder = os.listdir(\"./data\")\n",
    "\n",
    "for param in param_list:\n",
    "    name = param['function'].__name__\n",
    "    if name not in data_folder:\n",
    "        print(f\"{name} id: {param_list.index(param)}\")"
   ]
  },
  {
   "cell_type": "code",
   "execution_count": null,
   "metadata": {},
   "outputs": [],
   "source": []
  },
  {
   "cell_type": "code",
   "execution_count": 1,
   "metadata": {},
   "outputs": [
    {
     "name": "stdout",
     "output_type": "stream",
     "text": [
      "Empty DataFrame\n",
      "Columns: [class 0 acc, class 1 acc, overall acc]\n",
      "Index: []\n"
     ]
    }
   ],
   "source": [
    "import pandas as pd\n",
    "df = pd.DataFrame(columns=['class 0 acc', 'class 1 acc', 'overall acc'])\n",
    "print(df)"
   ]
  },
  {
   "cell_type": "code",
   "execution_count": null,
   "metadata": {},
   "outputs": [],
   "source": [
    "import pandas as pd\n",
    "from sklearn.ensemble import RandomForestClassifier, GradientBoostingClassifier\n",
    "from sklearn.tree import DecisionTreeClassifier\n",
    "from sklearn.metrics import accuracy_score, confusion_matrix\n",
    "from utils import param_list\n",
    "import xgboost as xgb\n",
    "\n",
    "# result_df = pd.read_csv(\"./multiple_result.csv\", index_col=\"features_name\")\n",
    "md = \"nmd\"\n",
    "features_mark = 2 if md == \"md\" else 8\n",
    "\n",
    "def process_confusion_matrix(label, pred):\n",
    "    cm = confusion_matrix(label, pred)\n",
    "    l = []\n",
    "\n",
    "    for i in range(cm.shape[0]):\n",
    "        class_accuracy = cm[i, i] / cm[i].sum() * 100\n",
    "        l.append(class_accuracy)\n",
    "        print(f\"Class {i} Accuracy: {class_accuracy:.2f}%\")\n",
    "\n",
    "    return l\n",
    "\n",
    "for i, param in enumerate(param_list):\n",
    "\n",
    "    features_name = param['function'].__name__\n",
    "\n",
    "    # Load training data from CSV\n",
    "    train_file_path = f\"./data/{features_name}/vaynen_train_{features_name}_new.csv\"  # Change this to your actual file path\n",
    "    train_data = pd.read_csv(train_file_path)\n",
    "\n",
    "    # Assuming the first column is the label\n",
    "    y_train = train_data.iloc[:, 1]  # Labels\n",
    "    X_train = train_data.iloc[:, features_mark:]  # Features\n",
    "\n",
    "    # Load test data from another CSV\n",
    "    test_file_path = f\"./data/{features_name}/vaynen_test_{features_name}_new.csv\"  # Change this to your actual file path\n",
    "    test_data = pd.read_csv(test_file_path)\n",
    "\n",
    "    y_test = test_data.iloc[:, 1]  # Labels\n",
    "    X_test = test_data.iloc[:, features_mark:]  # Features\n",
    "\n",
    "    model = xgb.XGBClassifier(use_label_encoder=False, eval_metric='logloss')\n",
    "    model.fit(X_train, y_train)\n",
    "\n",
    "    # Predictions\n",
    "    y_pred = model.predict(X_test)\n",
    "\n",
    "    # Evaluation metrics\n",
    "    accuracy = accuracy_score(y_test, y_pred)\n",
    "    class_acc = process_confusion_matrix(y_test, y_pred)\n",
    "\n",
    "    class_acc.append(accuracy*100)\n",
    "\n",
    "    df.loc[len(df)] = class_acc"
   ]
  },
  {
   "cell_type": "code",
   "execution_count": null,
   "metadata": {},
   "outputs": [
    {
     "data": {
      "text/html": [
       "<div>\n",
       "<style scoped>\n",
       "    .dataframe tbody tr th:only-of-type {\n",
       "        vertical-align: middle;\n",
       "    }\n",
       "\n",
       "    .dataframe tbody tr th {\n",
       "        vertical-align: top;\n",
       "    }\n",
       "\n",
       "    .dataframe thead th {\n",
       "        text-align: right;\n",
       "    }\n",
       "</style>\n",
       "<table border=\"1\" class=\"dataframe\">\n",
       "  <thead>\n",
       "    <tr style=\"text-align: right;\">\n",
       "      <th></th>\n",
       "      <th>class 0 acc</th>\n",
       "      <th>class 1 acc</th>\n",
       "      <th>overall acc</th>\n",
       "    </tr>\n",
       "  </thead>\n",
       "  <tbody>\n",
       "    <tr>\n",
       "      <th>fos</th>\n",
       "      <td>76.027397</td>\n",
       "      <td>40.730337</td>\n",
       "      <td>62.659574</td>\n",
       "    </tr>\n",
       "    <tr>\n",
       "      <th>glcm_features</th>\n",
       "      <td>76.198630</td>\n",
       "      <td>46.629213</td>\n",
       "      <td>65.000000</td>\n",
       "    </tr>\n",
       "    <tr>\n",
       "      <th>glds_features</th>\n",
       "      <td>76.712329</td>\n",
       "      <td>47.471910</td>\n",
       "      <td>65.638298</td>\n",
       "    </tr>\n",
       "    <tr>\n",
       "      <th>ngtdm_features</th>\n",
       "      <td>73.801370</td>\n",
       "      <td>42.696629</td>\n",
       "      <td>62.021277</td>\n",
       "    </tr>\n",
       "    <tr>\n",
       "      <th>sfm_features</th>\n",
       "      <td>74.143836</td>\n",
       "      <td>44.101124</td>\n",
       "      <td>62.765957</td>\n",
       "    </tr>\n",
       "    <tr>\n",
       "      <th>lte_measures</th>\n",
       "      <td>76.541096</td>\n",
       "      <td>41.573034</td>\n",
       "      <td>63.297872</td>\n",
       "    </tr>\n",
       "    <tr>\n",
       "      <th>fdta</th>\n",
       "      <td>73.116438</td>\n",
       "      <td>49.438202</td>\n",
       "      <td>64.148936</td>\n",
       "    </tr>\n",
       "    <tr>\n",
       "      <th>glrlm_features</th>\n",
       "      <td>76.198630</td>\n",
       "      <td>48.314607</td>\n",
       "      <td>65.638298</td>\n",
       "    </tr>\n",
       "    <tr>\n",
       "      <th>fps</th>\n",
       "      <td>72.602740</td>\n",
       "      <td>46.629213</td>\n",
       "      <td>62.765957</td>\n",
       "    </tr>\n",
       "    <tr>\n",
       "      <th>shape_parameters</th>\n",
       "      <td>71.746575</td>\n",
       "      <td>47.752809</td>\n",
       "      <td>62.659574</td>\n",
       "    </tr>\n",
       "    <tr>\n",
       "      <th>glszm_features</th>\n",
       "      <td>72.773973</td>\n",
       "      <td>45.505618</td>\n",
       "      <td>62.446809</td>\n",
       "    </tr>\n",
       "    <tr>\n",
       "      <th>hos_features</th>\n",
       "      <td>74.657534</td>\n",
       "      <td>37.640449</td>\n",
       "      <td>60.638298</td>\n",
       "    </tr>\n",
       "    <tr>\n",
       "      <th>lbp_features</th>\n",
       "      <td>73.116438</td>\n",
       "      <td>46.629213</td>\n",
       "      <td>63.085106</td>\n",
       "    </tr>\n",
       "    <tr>\n",
       "      <th>grayscale_morphology_features</th>\n",
       "      <td>72.945205</td>\n",
       "      <td>48.876404</td>\n",
       "      <td>63.829787</td>\n",
       "    </tr>\n",
       "    <tr>\n",
       "      <th>fdta</th>\n",
       "      <td>73.116438</td>\n",
       "      <td>49.438202</td>\n",
       "      <td>64.148936</td>\n",
       "    </tr>\n",
       "    <tr>\n",
       "      <th>swt_features</th>\n",
       "      <td>75.342466</td>\n",
       "      <td>46.910112</td>\n",
       "      <td>64.574468</td>\n",
       "    </tr>\n",
       "    <tr>\n",
       "      <th>wp_features</th>\n",
       "      <td>75.513699</td>\n",
       "      <td>50.280899</td>\n",
       "      <td>65.957447</td>\n",
       "    </tr>\n",
       "    <tr>\n",
       "      <th>gt_features</th>\n",
       "      <td>76.027397</td>\n",
       "      <td>45.224719</td>\n",
       "      <td>64.361702</td>\n",
       "    </tr>\n",
       "    <tr>\n",
       "      <th>zernikes_moments</th>\n",
       "      <td>75.342466</td>\n",
       "      <td>38.764045</td>\n",
       "      <td>61.489362</td>\n",
       "    </tr>\n",
       "    <tr>\n",
       "      <th>hu_moments</th>\n",
       "      <td>72.945205</td>\n",
       "      <td>41.853933</td>\n",
       "      <td>61.170213</td>\n",
       "    </tr>\n",
       "    <tr>\n",
       "      <th>tas_features</th>\n",
       "      <td>75.513699</td>\n",
       "      <td>45.224719</td>\n",
       "      <td>64.042553</td>\n",
       "    </tr>\n",
       "  </tbody>\n",
       "</table>\n",
       "</div>"
      ],
      "text/plain": [
       "                               class 0 acc  class 1 acc  overall acc\n",
       "fos                              76.027397    40.730337    62.659574\n",
       "glcm_features                    76.198630    46.629213    65.000000\n",
       "glds_features                    76.712329    47.471910    65.638298\n",
       "ngtdm_features                   73.801370    42.696629    62.021277\n",
       "sfm_features                     74.143836    44.101124    62.765957\n",
       "lte_measures                     76.541096    41.573034    63.297872\n",
       "fdta                             73.116438    49.438202    64.148936\n",
       "glrlm_features                   76.198630    48.314607    65.638298\n",
       "fps                              72.602740    46.629213    62.765957\n",
       "shape_parameters                 71.746575    47.752809    62.659574\n",
       "glszm_features                   72.773973    45.505618    62.446809\n",
       "hos_features                     74.657534    37.640449    60.638298\n",
       "lbp_features                     73.116438    46.629213    63.085106\n",
       "grayscale_morphology_features    72.945205    48.876404    63.829787\n",
       "fdta                             73.116438    49.438202    64.148936\n",
       "swt_features                     75.342466    46.910112    64.574468\n",
       "wp_features                      75.513699    50.280899    65.957447\n",
       "gt_features                      76.027397    45.224719    64.361702\n",
       "zernikes_moments                 75.342466    38.764045    61.489362\n",
       "hu_moments                       72.945205    41.853933    61.170213\n",
       "tas_features                     75.513699    45.224719    64.042553"
      ]
     },
     "execution_count": 13,
     "metadata": {},
     "output_type": "execute_result"
    }
   ],
   "source": [
    "df.index = [p['function'].__name__ for p in param_list] # Yes metadata result\n",
    "df"
   ]
  },
  {
   "cell_type": "code",
   "execution_count": null,
   "metadata": {},
   "outputs": [
    {
     "data": {
      "text/html": [
       "<div>\n",
       "<style scoped>\n",
       "    .dataframe tbody tr th:only-of-type {\n",
       "        vertical-align: middle;\n",
       "    }\n",
       "\n",
       "    .dataframe tbody tr th {\n",
       "        vertical-align: top;\n",
       "    }\n",
       "\n",
       "    .dataframe thead th {\n",
       "        text-align: right;\n",
       "    }\n",
       "</style>\n",
       "<table border=\"1\" class=\"dataframe\">\n",
       "  <thead>\n",
       "    <tr style=\"text-align: right;\">\n",
       "      <th></th>\n",
       "      <th>class 0 acc</th>\n",
       "      <th>class 1 acc</th>\n",
       "      <th>overall acc</th>\n",
       "    </tr>\n",
       "  </thead>\n",
       "  <tbody>\n",
       "    <tr>\n",
       "      <th>fos</th>\n",
       "      <td>72.773973</td>\n",
       "      <td>29.494382</td>\n",
       "      <td>56.382979</td>\n",
       "    </tr>\n",
       "    <tr>\n",
       "      <th>glcm_features</th>\n",
       "      <td>73.801370</td>\n",
       "      <td>33.146067</td>\n",
       "      <td>58.404255</td>\n",
       "    </tr>\n",
       "    <tr>\n",
       "      <th>glds_features</th>\n",
       "      <td>78.767123</td>\n",
       "      <td>28.932584</td>\n",
       "      <td>59.893617</td>\n",
       "    </tr>\n",
       "    <tr>\n",
       "      <th>ngtdm_features</th>\n",
       "      <td>74.143836</td>\n",
       "      <td>28.932584</td>\n",
       "      <td>57.021277</td>\n",
       "    </tr>\n",
       "    <tr>\n",
       "      <th>sfm_features</th>\n",
       "      <td>74.143836</td>\n",
       "      <td>32.022472</td>\n",
       "      <td>58.191489</td>\n",
       "    </tr>\n",
       "    <tr>\n",
       "      <th>lte_measures</th>\n",
       "      <td>77.568493</td>\n",
       "      <td>27.528090</td>\n",
       "      <td>58.617021</td>\n",
       "    </tr>\n",
       "    <tr>\n",
       "      <th>fdta</th>\n",
       "      <td>78.595890</td>\n",
       "      <td>30.056180</td>\n",
       "      <td>60.212766</td>\n",
       "    </tr>\n",
       "    <tr>\n",
       "      <th>glrlm_features</th>\n",
       "      <td>71.061644</td>\n",
       "      <td>31.460674</td>\n",
       "      <td>56.063830</td>\n",
       "    </tr>\n",
       "    <tr>\n",
       "      <th>fps</th>\n",
       "      <td>79.452055</td>\n",
       "      <td>28.089888</td>\n",
       "      <td>60.000000</td>\n",
       "    </tr>\n",
       "    <tr>\n",
       "      <th>shape_parameters</th>\n",
       "      <td>76.541096</td>\n",
       "      <td>26.685393</td>\n",
       "      <td>57.659574</td>\n",
       "    </tr>\n",
       "    <tr>\n",
       "      <th>glszm_features</th>\n",
       "      <td>71.232877</td>\n",
       "      <td>31.741573</td>\n",
       "      <td>56.276596</td>\n",
       "    </tr>\n",
       "    <tr>\n",
       "      <th>hos_features</th>\n",
       "      <td>79.452055</td>\n",
       "      <td>20.786517</td>\n",
       "      <td>57.234043</td>\n",
       "    </tr>\n",
       "    <tr>\n",
       "      <th>lbp_features</th>\n",
       "      <td>78.424658</td>\n",
       "      <td>30.617978</td>\n",
       "      <td>60.319149</td>\n",
       "    </tr>\n",
       "    <tr>\n",
       "      <th>grayscale_morphology_features</th>\n",
       "      <td>77.568493</td>\n",
       "      <td>33.426966</td>\n",
       "      <td>60.851064</td>\n",
       "    </tr>\n",
       "    <tr>\n",
       "      <th>fdta</th>\n",
       "      <td>78.595890</td>\n",
       "      <td>30.056180</td>\n",
       "      <td>60.212766</td>\n",
       "    </tr>\n",
       "    <tr>\n",
       "      <th>swt_features</th>\n",
       "      <td>76.369863</td>\n",
       "      <td>32.865169</td>\n",
       "      <td>59.893617</td>\n",
       "    </tr>\n",
       "    <tr>\n",
       "      <th>wp_features</th>\n",
       "      <td>74.657534</td>\n",
       "      <td>35.393258</td>\n",
       "      <td>59.787234</td>\n",
       "    </tr>\n",
       "    <tr>\n",
       "      <th>gt_features</th>\n",
       "      <td>77.739726</td>\n",
       "      <td>37.078652</td>\n",
       "      <td>62.340426</td>\n",
       "    </tr>\n",
       "    <tr>\n",
       "      <th>zernikes_moments</th>\n",
       "      <td>75.684932</td>\n",
       "      <td>27.808989</td>\n",
       "      <td>57.553191</td>\n",
       "    </tr>\n",
       "    <tr>\n",
       "      <th>hu_moments</th>\n",
       "      <td>73.972603</td>\n",
       "      <td>30.617978</td>\n",
       "      <td>57.553191</td>\n",
       "    </tr>\n",
       "    <tr>\n",
       "      <th>tas_features</th>\n",
       "      <td>78.253425</td>\n",
       "      <td>39.044944</td>\n",
       "      <td>63.404255</td>\n",
       "    </tr>\n",
       "  </tbody>\n",
       "</table>\n",
       "</div>"
      ],
      "text/plain": [
       "                               class 0 acc  class 1 acc  overall acc\n",
       "fos                              72.773973    29.494382    56.382979\n",
       "glcm_features                    73.801370    33.146067    58.404255\n",
       "glds_features                    78.767123    28.932584    59.893617\n",
       "ngtdm_features                   74.143836    28.932584    57.021277\n",
       "sfm_features                     74.143836    32.022472    58.191489\n",
       "lte_measures                     77.568493    27.528090    58.617021\n",
       "fdta                             78.595890    30.056180    60.212766\n",
       "glrlm_features                   71.061644    31.460674    56.063830\n",
       "fps                              79.452055    28.089888    60.000000\n",
       "shape_parameters                 76.541096    26.685393    57.659574\n",
       "glszm_features                   71.232877    31.741573    56.276596\n",
       "hos_features                     79.452055    20.786517    57.234043\n",
       "lbp_features                     78.424658    30.617978    60.319149\n",
       "grayscale_morphology_features    77.568493    33.426966    60.851064\n",
       "fdta                             78.595890    30.056180    60.212766\n",
       "swt_features                     76.369863    32.865169    59.893617\n",
       "wp_features                      74.657534    35.393258    59.787234\n",
       "gt_features                      77.739726    37.078652    62.340426\n",
       "zernikes_moments                 75.684932    27.808989    57.553191\n",
       "hu_moments                       73.972603    30.617978    57.553191\n",
       "tas_features                     78.253425    39.044944    63.404255"
      ]
     },
     "execution_count": 3,
     "metadata": {},
     "output_type": "execute_result"
    }
   ],
   "source": [
    "df.index = [p['function'].__name__ for p in param_list]  # No metadata result\n",
    "df"
   ]
  }
 ],
 "metadata": {
  "kernelspec": {
   "display_name": "base",
   "language": "python",
   "name": "python3"
  },
  "language_info": {
   "codemirror_mode": {
    "name": "ipython",
    "version": 3
   },
   "file_extension": ".py",
   "mimetype": "text/x-python",
   "name": "python",
   "nbconvert_exporter": "python",
   "pygments_lexer": "ipython3",
   "version": "3.12.7"
  }
 },
 "nbformat": 4,
 "nbformat_minor": 2
}

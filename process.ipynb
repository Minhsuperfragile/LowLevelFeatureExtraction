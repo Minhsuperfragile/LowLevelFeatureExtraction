{
 "cells": [
  {
   "cell_type": "code",
   "execution_count": 3,
   "metadata": {},
   "outputs": [],
   "source": [
    "import pyfeats\n",
    "from typing import *\n",
    "from torchvision import datasets, transforms\n",
    "from torch.utils.data import DataLoader\n",
    "import os"
   ]
  },
  {
   "cell_type": "code",
   "execution_count": null,
   "metadata": {},
   "outputs": [],
   "source": [
    "from utils import *\n",
    "\n",
    "llf = LowLevelFeatureExtractor(function=pyfeats.glcm_features, \n",
    "                               params={'ignore_zeros': True}, \n",
    "                               features_set=['features_mean', 'features_range'])\n",
    "\n",
    "root_folder = \"C:\\\\Users\\\\trong\\\\Documents\\\\skin_data\""
   ]
  },
  {
   "cell_type": "code",
   "execution_count": null,
   "metadata": {},
   "outputs": [],
   "source": [
    "# Define image transformations\n",
    "transform = transforms.Compose([\n",
    "    transforms.Resize((128, 128)),  # Resize images to 128x128\n",
    "    transforms.Grayscale(num_output_channels=1),    # Convert to grayscale\n",
    "    llf,\n",
    "    # transforms.ToTensor(),  # Convert to tensor\n",
    "])"
   ]
  },
  {
   "cell_type": "code",
   "execution_count": null,
   "metadata": {},
   "outputs": [],
   "source": [
    "train_dataset = CSVImageMetadataDataset(csv_file='./data/vaynen_train.csv', root_dir=root_folder, transform=transform)\n",
    "train_dataloader = DataLoader(train_dataset, batch_size=32, shuffle=True, num_workers=4)   \n",
    "\n",
    "test_dataset = CSVImageMetadataDataset(csv_file='./data/vaynen_test.csv', root_dir=root_folder, transform=transform)\n",
    "test_dataloader = DataLoader(test_dataset, batch_size=32, shuffle=False, num_workers=4)\n",
    "\n",
    "# Check one batch\n",
    "images, metadata, labels = next(iter(train_dataloader))\n",
    "print(images.shape)  # Example: torch.Size([32, 3, 128, 128])\n",
    "print(metadata.shape)  # Example: torch.Size([32, 6])  -> 6 metadata features\n",
    "print(labels.shape)  # Example: torch.Size([32])"
   ]
  },
  {
   "cell_type": "code",
   "execution_count": null,
   "metadata": {},
   "outputs": [],
   "source": [
    "model = SimpleNeuralNetwork(inputs = llf.get_features_size())\n",
    "\n",
    "# Check the model's architecture\n",
    "print(model)"
   ]
  },
  {
   "cell_type": "code",
   "execution_count": null,
   "metadata": {},
   "outputs": [],
   "source": [
    "train_model(model, train_dataloader, epochs=100, features_set=llf.function.__name__)"
   ]
  },
  {
   "cell_type": "code",
   "execution_count": null,
   "metadata": {},
   "outputs": [],
   "source": [
    "evaluate_model(model, test_dataloader, features_set=llf.function.__name__)\n"
   ]
  }
 ],
 "metadata": {
  "kernelspec": {
   "display_name": "base",
   "language": "python",
   "name": "python3"
  },
  "language_info": {
   "codemirror_mode": {
    "name": "ipython",
    "version": 3
   },
   "file_extension": ".py",
   "mimetype": "text/x-python",
   "name": "python",
   "nbconvert_exporter": "python",
   "pygments_lexer": "ipython3",
   "version": "3.12.7"
  }
 },
 "nbformat": 4,
 "nbformat_minor": 2
}

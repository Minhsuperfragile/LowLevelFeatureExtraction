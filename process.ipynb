{
 "cells": [
  {
   "cell_type": "code",
   "execution_count": 1,
   "metadata": {},
   "outputs": [],
   "source": [
    "import pyfeats\n",
    "from typing import *\n",
    "from torchvision import datasets, transforms\n",
    "from torch.utils.data import DataLoader\n",
    "import os"
   ]
  },
  {
   "cell_type": "code",
   "execution_count": 2,
   "metadata": {},
   "outputs": [],
   "source": [
    "from utils import *\n",
    "\n",
    "llf = LowLevelFeatureExtractor(function=pyfeats.glcm_features, \n",
    "                               params={'ignore_zeros': True}, \n",
    "                               features_set=['features_mean', 'features_range'])\n",
    "\n",
    "root_folder = \"C:\\\\Users\\\\trong\\\\Documents\\\\skin_data\""
   ]
  },
  {
   "cell_type": "code",
   "execution_count": null,
   "metadata": {},
   "outputs": [],
   "source": [
    "CSVImageMetadataDataset(csv_file='./data/vaynen_train.csv', root_dir=os.path.join(root_folder,'train'), transform=transform)"
   ]
  },
  {
   "cell_type": "code",
   "execution_count": 3,
   "metadata": {},
   "outputs": [
    {
     "name": "stdout",
     "output_type": "stream",
     "text": [
      "{'12': 0, '13': 1, '14': 2}\n",
      "torch.Size([32, 28]) torch.Size([32])\n"
     ]
    }
   ],
   "source": [
    "# Define image transformations\n",
    "transform = transforms.Compose([\n",
    "    transforms.Resize((128, 128)),  # Resize images to 128x128\n",
    "    transforms.Grayscale(num_output_channels=1),    # Convert to grayscale\n",
    "    llf,\n",
    "    # transforms.ToTensor(),  # Convert to tensor\n",
    "])\n",
    "\n",
    "# Load dataset\n",
    "train_dataset = datasets.ImageFolder(root=os.path.join(root_folder,\"train\"), transform=transform)\n",
    "test_dataset = datasets.ImageFolder(root=os.path.join(root_folder,'test'), transform=transform)\n",
    "\n",
    "# Create DataLoaders\n",
    "train_loader = DataLoader(train_dataset, batch_size=32, shuffle=True, num_workers=4)\n",
    "test_loader = DataLoader(test_dataset, batch_size=32, shuffle=False, num_workers=4)\n",
    "\n",
    "# Print class mapping\n",
    "print(train_dataset.class_to_idx)  # Example output: {'cat': 0, 'dog': 1}\n",
    "\n",
    "# Check one batch\n",
    "images, labels = next(iter(test_loader))\n",
    "print(images.shape, labels.shape)  # Output: torch.Size([32, 3, 128, 128]), torch.Size([32])\n"
   ]
  }
 ],
 "metadata": {
  "kernelspec": {
   "display_name": "base",
   "language": "python",
   "name": "python3"
  },
  "language_info": {
   "codemirror_mode": {
    "name": "ipython",
    "version": 3
   },
   "file_extension": ".py",
   "mimetype": "text/x-python",
   "name": "python",
   "nbconvert_exporter": "python",
   "pygments_lexer": "ipython3",
   "version": "3.12.7"
  }
 },
 "nbformat": 4,
 "nbformat_minor": 2
}

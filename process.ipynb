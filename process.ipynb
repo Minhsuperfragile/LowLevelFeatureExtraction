{
 "cells": [
  {
   "cell_type": "code",
   "execution_count": 1,
   "metadata": {},
   "outputs": [],
   "source": [
    "import pyfeats\n",
    "from typing import *\n",
    "from torchvision import datasets, transforms\n",
    "from torch.utils.data import DataLoader\n",
    "import os\n",
    "from utils import *"
   ]
  },
  {
   "cell_type": "code",
   "execution_count": 2,
   "metadata": {},
   "outputs": [],
   "source": [
    "llf = LowLevelFeatureExtractor(function=pyfeats.glcm_features, \n",
    "                               params={'ignore_zeros': True}, \n",
    "                               features_set=['features_mean', 'features_range'])\n",
    "\n",
    "# root_folder = \"C:\\\\Users\\\\trong\\\\Documents\\\\skin_data\"\n",
    "root_folder = \"/mnt/c/Users/trong/Documents/skin_data\" "
   ]
  },
  {
   "cell_type": "code",
   "execution_count": 3,
   "metadata": {},
   "outputs": [],
   "source": [
    "# Define image transformations\n",
    "transform = transforms.Compose([\n",
    "    transforms.Resize((128, 128)),  # Resize images to 128x128\n",
    "    transforms.Grayscale(num_output_channels=1),    # Convert to grayscale\n",
    "    ToNumpy(),  # Convert to tensor\n",
    "])"
   ]
  },
  {
   "cell_type": "code",
   "execution_count": 4,
   "metadata": {},
   "outputs": [
    {
     "name": "stdout",
     "output_type": "stream",
     "text": [
      "torch.Size([32, 128, 128])\n",
      "torch.Size([32, 6])\n",
      "torch.Size([32])\n"
     ]
    }
   ],
   "source": [
    "train_dataset = CSVImageMetadataDataset(csv_file='./data/vaynen_train_linux.csv', root_dir=root_folder, transform=transform)\n",
    "train_dataloader = DataLoader(train_dataset, batch_size=32, shuffle=True, num_workers=4)   \n",
    "\n",
    "test_dataset = CSVImageMetadataDataset(csv_file='./data/vaynen_test_linux.csv', root_dir=root_folder, transform=transform)\n",
    "test_dataloader = DataLoader(test_dataset, batch_size=32, shuffle=False, num_workers=4)\n",
    "\n",
    "# Check one batch\n",
    "images, metadata, labels = next(iter(train_dataloader))\n",
    "print(images.shape)  # Example: torch.Size([32, 3, 128, 128])\n",
    "print(metadata.shape)  # Example: torch.Size([32, 6])  -> 6 metadata features\n",
    "print(labels.shape)  # Example: torch.Size([32])"
   ]
  },
  {
   "cell_type": "code",
   "execution_count": 3,
   "metadata": {},
   "outputs": [
    {
     "data": {
      "text/plain": [
       "28"
      ]
     },
     "execution_count": 3,
     "metadata": {},
     "output_type": "execute_result"
    }
   ],
   "source": [
    "llf.get_features_size()"
   ]
  },
  {
   "cell_type": "code",
   "execution_count": 8,
   "metadata": {},
   "outputs": [
    {
     "name": "stdout",
     "output_type": "stream",
     "text": [
      "(32, 1, 128, 128)\n"
     ]
    }
   ],
   "source": [
    "import numpy as np\n",
    "\n",
    "# Simulating a batch tensor (random example)\n",
    "batch_tensor = np.random.randn(32, 1, 128, 128)  # Shape (32,1,128,128)\n",
    "\n",
    "# Process each image separately\n",
    "processed_images = []\n",
    "for img in batch_tensor:  # Automatically iterates over axis 0\n",
    "    processed_img = img * 2  # Example operation: scaling by 2\n",
    "    processed_images.append(processed_img)\n",
    "\n",
    "# Stack them back to maintain original shape\n",
    "final_batch_tensor = np.stack(processed_images, axis=0)\n",
    "\n",
    "print(final_batch_tensor.shape)  # Output: (32, 1, 128, 128)\n"
   ]
  },
  {
   "cell_type": "code",
   "execution_count": null,
   "metadata": {},
   "outputs": [],
   "source": [
    "model = SimpleNeuralNetwork(inputs = llf.get_features_size())\n",
    "\n",
    "# Check the model's architecture\n",
    "print(model)"
   ]
  },
  {
   "cell_type": "code",
   "execution_count": null,
   "metadata": {},
   "outputs": [],
   "source": [
    "train_model(model, train_dataloader, epochs=100, llf=llf ,features_set=llf.function.__name__, )"
   ]
  },
  {
   "cell_type": "code",
   "execution_count": null,
   "metadata": {},
   "outputs": [],
   "source": [
    "evaluate_model(model, test_dataloader, features_set=llf.function.__name__)"
   ]
  },
  {
   "cell_type": "code",
   "execution_count": null,
   "metadata": {},
   "outputs": [],
   "source": [
    "from PIL import Image\n",
    "\n",
    "image = Image.open(\"/mnt/c/Users/trong/Documents/skin_data/train/12/image_uuid_000e1f2d-7442-4cdb-89d0-b8350ecdebbb_created_by_haianh.31297_MTwJXvl.png\")\n",
    "gray_image = image.convert(\"L\")\n",
    "\n",
    "gray_image_array = np.array(gray_image)"
   ]
  },
  {
   "cell_type": "code",
   "execution_count": null,
   "metadata": {},
   "outputs": [],
   "source": [
    "import torch\n",
    "from torchvision import models\n",
    "\n",
    "model = models.vgg16(pretrained=True)\n",
    "optimizer = torch.optim.SGD(model.parameters(), lr=0.001)\n",
    "\n",
    "# Train the model...\n",
    "\n",
    "# Save the model using PyTorch's built-in function\n",
    "torch.save(model.state_dict(), 'my_model.pth')"
   ]
  },
  {
   "cell_type": "code",
   "execution_count": null,
   "metadata": {},
   "outputs": [],
   "source": [
    "type(torch.Tensor(llf(transform(image))))"
   ]
  },
  {
   "cell_type": "code",
   "execution_count": null,
   "metadata": {},
   "outputs": [],
   "source": [
    "for llf_param in param_list[-6:]:\n",
    "    llf = LowLevelFeatureExtractor(**llf_param)\n",
    "    print(f'{llf.function.__name__} -> {llf(gray_image_array)}')"
   ]
  },
  {
   "cell_type": "code",
   "execution_count": null,
   "metadata": {},
   "outputs": [],
   "source": [
    "param_list[0]"
   ]
  }
 ],
 "metadata": {
  "kernelspec": {
   "display_name": "base",
   "language": "python",
   "name": "python3"
  },
  "language_info": {
   "codemirror_mode": {
    "name": "ipython",
    "version": 3
   },
   "file_extension": ".py",
   "mimetype": "text/x-python",
   "name": "python",
   "nbconvert_exporter": "python",
   "pygments_lexer": "ipython3",
   "version": "3.12.7"
  }
 },
 "nbformat": 4,
 "nbformat_minor": 2
}

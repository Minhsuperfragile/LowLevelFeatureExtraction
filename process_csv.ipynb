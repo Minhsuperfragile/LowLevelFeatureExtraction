{
 "cells": [
  {
   "cell_type": "code",
   "execution_count": 7,
   "metadata": {},
   "outputs": [
    {
     "data": {
      "text/html": [
       "<div>\n",
       "<style scoped>\n",
       "    .dataframe tbody tr th:only-of-type {\n",
       "        vertical-align: middle;\n",
       "    }\n",
       "\n",
       "    .dataframe tbody tr th {\n",
       "        vertical-align: top;\n",
       "    }\n",
       "\n",
       "    .dataframe thead th {\n",
       "        text-align: right;\n",
       "    }\n",
       "</style>\n",
       "<table border=\"1\" class=\"dataframe\">\n",
       "  <thead>\n",
       "    <tr style=\"text-align: right;\">\n",
       "      <th></th>\n",
       "      <th>id</th>\n",
       "      <th>image</th>\n",
       "      <th>label_id</th>\n",
       "      <th>skin_area_id</th>\n",
       "      <th>medical_record_code</th>\n",
       "      <th>sex</th>\n",
       "      <th>age</th>\n",
       "      <th>from_date</th>\n",
       "      <th>age_of_onset</th>\n",
       "      <th>damage_area</th>\n",
       "      <th>is_itchy</th>\n",
       "      <th>is_similar_in_family</th>\n",
       "      <th>age_group</th>\n",
       "    </tr>\n",
       "  </thead>\n",
       "  <tbody>\n",
       "    <tr>\n",
       "      <th>0</th>\n",
       "      <td>1522</td>\n",
       "      <td>images/image_uuid_f0b27277-d691-4cf5-9eeb-5f09...</td>\n",
       "      <td>40.0</td>\n",
       "      <td>1.0</td>\n",
       "      <td>VDCĐ-373</td>\n",
       "      <td>1.0</td>\n",
       "      <td>3.0</td>\n",
       "      <td>NaN</td>\n",
       "      <td>NaN</td>\n",
       "      <td>1</td>\n",
       "      <td>3.0</td>\n",
       "      <td>NaN</td>\n",
       "      <td>1</td>\n",
       "    </tr>\n",
       "  </tbody>\n",
       "</table>\n",
       "</div>"
      ],
      "text/plain": [
       "     id                                              image  label_id  \\\n",
       "0  1522  images/image_uuid_f0b27277-d691-4cf5-9eeb-5f09...      40.0   \n",
       "\n",
       "   skin_area_id medical_record_code  sex  age from_date  age_of_onset  \\\n",
       "0           1.0            VDCĐ-373  1.0  3.0       NaN           NaN   \n",
       "\n",
       "   damage_area  is_itchy  is_similar_in_family  age_group  \n",
       "0            1       3.0                   NaN          1  "
      ]
     },
     "execution_count": 7,
     "metadata": {},
     "output_type": "execute_result"
    }
   ],
   "source": [
    "import pandas as pd \n",
    "\n",
    "df = pd.read_csv('./data/data_3.csv',delimiter=',') \n",
    "df.head(1)"
   ]
  },
  {
   "cell_type": "code",
   "execution_count": 35,
   "metadata": {},
   "outputs": [],
   "source": [
    "df_vaynen = df[df['label_id'].isin([12.0, 13.0, 14.0])]"
   ]
  },
  {
   "cell_type": "code",
   "execution_count": null,
   "metadata": {},
   "outputs": [
    {
     "name": "stderr",
     "output_type": "stream",
     "text": [
      "C:\\Users\\trong\\AppData\\Local\\Temp\\ipykernel_10796\\1181737926.py:1: SettingWithCopyWarning: \n",
      "A value is trying to be set on a copy of a slice from a DataFrame\n",
      "\n",
      "See the caveats in the documentation: https://pandas.pydata.org/pandas-docs/stable/user_guide/indexing.html#returning-a-view-versus-a-copy\n",
      "  df_vaynen.drop(['id', 'medical_record_code', 'from_date', 'age_of_onset', 'is_similar_in_family'], axis=1, inplace=True)\n"
     ]
    }
   ],
   "source": [
    "df_vaynen.drop(['id', 'medical_record_code', 'from_date', 'age_of_onset', 'is_similar_in_family'], axis=1, inplace=True)\n",
    "df_vaynen['image'] = df_vaynen['image'].str.split('/')\n",
    "df_vaynen['image'] = df_vaynen['image'].apply(lambda x: x[1])\n",
    "df_vaynen.reset_index( drop=True, inplace=True)\n"
   ]
  },
  {
   "cell_type": "code",
   "execution_count": 39,
   "metadata": {},
   "outputs": [
    {
     "data": {
      "text/html": [
       "<div>\n",
       "<style scoped>\n",
       "    .dataframe tbody tr th:only-of-type {\n",
       "        vertical-align: middle;\n",
       "    }\n",
       "\n",
       "    .dataframe tbody tr th {\n",
       "        vertical-align: top;\n",
       "    }\n",
       "\n",
       "    .dataframe thead th {\n",
       "        text-align: right;\n",
       "    }\n",
       "</style>\n",
       "<table border=\"1\" class=\"dataframe\">\n",
       "  <thead>\n",
       "    <tr style=\"text-align: right;\">\n",
       "      <th></th>\n",
       "      <th>image</th>\n",
       "      <th>label_id</th>\n",
       "      <th>skin_area_id</th>\n",
       "      <th>sex</th>\n",
       "      <th>age</th>\n",
       "      <th>damage_area</th>\n",
       "      <th>is_itchy</th>\n",
       "      <th>age_group</th>\n",
       "    </tr>\n",
       "  </thead>\n",
       "  <tbody>\n",
       "    <tr>\n",
       "      <th>0</th>\n",
       "      <td>image_uuid_c11175d2-edd2-4cd5-959f-5239513277b...</td>\n",
       "      <td>13.0</td>\n",
       "      <td>2.0</td>\n",
       "      <td>2.0</td>\n",
       "      <td>48.0</td>\n",
       "      <td>1</td>\n",
       "      <td>0.0</td>\n",
       "      <td>4</td>\n",
       "    </tr>\n",
       "    <tr>\n",
       "      <th>1</th>\n",
       "      <td>image_uuid_3690bdc8-2cda-4479-94fd-cd11f81a9cd...</td>\n",
       "      <td>13.0</td>\n",
       "      <td>2.0</td>\n",
       "      <td>2.0</td>\n",
       "      <td>48.0</td>\n",
       "      <td>1</td>\n",
       "      <td>0.0</td>\n",
       "      <td>4</td>\n",
       "    </tr>\n",
       "    <tr>\n",
       "      <th>2</th>\n",
       "      <td>image_uuid_2e2ae6cb-c02e-44b5-870f-5901cd16b91...</td>\n",
       "      <td>13.0</td>\n",
       "      <td>1.0</td>\n",
       "      <td>2.0</td>\n",
       "      <td>48.0</td>\n",
       "      <td>1</td>\n",
       "      <td>0.0</td>\n",
       "      <td>4</td>\n",
       "    </tr>\n",
       "    <tr>\n",
       "      <th>3</th>\n",
       "      <td>image_uuid_caaaefb3-2ae2-4409-b743-a89e6a9c80c...</td>\n",
       "      <td>13.0</td>\n",
       "      <td>1.0</td>\n",
       "      <td>2.0</td>\n",
       "      <td>48.0</td>\n",
       "      <td>1</td>\n",
       "      <td>0.0</td>\n",
       "      <td>4</td>\n",
       "    </tr>\n",
       "    <tr>\n",
       "      <th>4</th>\n",
       "      <td>image_uuid_55076b56-471d-427b-a14b-d0286025a81...</td>\n",
       "      <td>14.0</td>\n",
       "      <td>8.0</td>\n",
       "      <td>1.0</td>\n",
       "      <td>72.0</td>\n",
       "      <td>2</td>\n",
       "      <td>0.0</td>\n",
       "      <td>5</td>\n",
       "    </tr>\n",
       "    <tr>\n",
       "      <th>...</th>\n",
       "      <td>...</td>\n",
       "      <td>...</td>\n",
       "      <td>...</td>\n",
       "      <td>...</td>\n",
       "      <td>...</td>\n",
       "      <td>...</td>\n",
       "      <td>...</td>\n",
       "      <td>...</td>\n",
       "    </tr>\n",
       "    <tr>\n",
       "      <th>12977</th>\n",
       "      <td>image_uuid_a6d2f710-b9a8-4eb7-a0ca-0ea82f6d1fc...</td>\n",
       "      <td>13.0</td>\n",
       "      <td>28.0</td>\n",
       "      <td>1.0</td>\n",
       "      <td>61.0</td>\n",
       "      <td>1</td>\n",
       "      <td>0.0</td>\n",
       "      <td>5</td>\n",
       "    </tr>\n",
       "    <tr>\n",
       "      <th>12978</th>\n",
       "      <td>image_uuid_fe40dbdf-a00b-4bdf-ad33-952d9697799...</td>\n",
       "      <td>13.0</td>\n",
       "      <td>28.0</td>\n",
       "      <td>1.0</td>\n",
       "      <td>61.0</td>\n",
       "      <td>1</td>\n",
       "      <td>0.0</td>\n",
       "      <td>5</td>\n",
       "    </tr>\n",
       "    <tr>\n",
       "      <th>12979</th>\n",
       "      <td>image_uuid_57b1a7bf-6264-42e8-9901-1b96b15a5a8...</td>\n",
       "      <td>13.0</td>\n",
       "      <td>8.0</td>\n",
       "      <td>2.0</td>\n",
       "      <td>48.0</td>\n",
       "      <td>1</td>\n",
       "      <td>0.0</td>\n",
       "      <td>4</td>\n",
       "    </tr>\n",
       "    <tr>\n",
       "      <th>12980</th>\n",
       "      <td>image_uuid_59449881-65f8-4c78-b582-0e2d91561c7...</td>\n",
       "      <td>13.0</td>\n",
       "      <td>8.0</td>\n",
       "      <td>2.0</td>\n",
       "      <td>48.0</td>\n",
       "      <td>1</td>\n",
       "      <td>0.0</td>\n",
       "      <td>4</td>\n",
       "    </tr>\n",
       "    <tr>\n",
       "      <th>12981</th>\n",
       "      <td>image_uuid_378a8fb0-1068-4a58-96dd-320a66d9beb...</td>\n",
       "      <td>13.0</td>\n",
       "      <td>8.0</td>\n",
       "      <td>2.0</td>\n",
       "      <td>48.0</td>\n",
       "      <td>1</td>\n",
       "      <td>0.0</td>\n",
       "      <td>4</td>\n",
       "    </tr>\n",
       "  </tbody>\n",
       "</table>\n",
       "<p>12982 rows × 8 columns</p>\n",
       "</div>"
      ],
      "text/plain": [
       "                                                   image  label_id  \\\n",
       "0      image_uuid_c11175d2-edd2-4cd5-959f-5239513277b...      13.0   \n",
       "1      image_uuid_3690bdc8-2cda-4479-94fd-cd11f81a9cd...      13.0   \n",
       "2      image_uuid_2e2ae6cb-c02e-44b5-870f-5901cd16b91...      13.0   \n",
       "3      image_uuid_caaaefb3-2ae2-4409-b743-a89e6a9c80c...      13.0   \n",
       "4      image_uuid_55076b56-471d-427b-a14b-d0286025a81...      14.0   \n",
       "...                                                  ...       ...   \n",
       "12977  image_uuid_a6d2f710-b9a8-4eb7-a0ca-0ea82f6d1fc...      13.0   \n",
       "12978  image_uuid_fe40dbdf-a00b-4bdf-ad33-952d9697799...      13.0   \n",
       "12979  image_uuid_57b1a7bf-6264-42e8-9901-1b96b15a5a8...      13.0   \n",
       "12980  image_uuid_59449881-65f8-4c78-b582-0e2d91561c7...      13.0   \n",
       "12981  image_uuid_378a8fb0-1068-4a58-96dd-320a66d9beb...      13.0   \n",
       "\n",
       "       skin_area_id  sex   age  damage_area  is_itchy  age_group  \n",
       "0               2.0  2.0  48.0            1       0.0          4  \n",
       "1               2.0  2.0  48.0            1       0.0          4  \n",
       "2               1.0  2.0  48.0            1       0.0          4  \n",
       "3               1.0  2.0  48.0            1       0.0          4  \n",
       "4               8.0  1.0  72.0            2       0.0          5  \n",
       "...             ...  ...   ...          ...       ...        ...  \n",
       "12977          28.0  1.0  61.0            1       0.0          5  \n",
       "12978          28.0  1.0  61.0            1       0.0          5  \n",
       "12979           8.0  2.0  48.0            1       0.0          4  \n",
       "12980           8.0  2.0  48.0            1       0.0          4  \n",
       "12981           8.0  2.0  48.0            1       0.0          4  \n",
       "\n",
       "[12982 rows x 8 columns]"
      ]
     },
     "execution_count": 39,
     "metadata": {},
     "output_type": "execute_result"
    }
   ],
   "source": [
    "df_vaynen"
   ]
  },
  {
   "cell_type": "code",
   "execution_count": 48,
   "metadata": {},
   "outputs": [
    {
     "data": {
      "text/plain": [
       "1170"
      ]
     },
     "execution_count": 48,
     "metadata": {},
     "output_type": "execute_result"
    }
   ],
   "source": [
    "import os\n",
    "\n",
    "root = \"C:\\\\Users\\\\trong\\\\Documents\\\\skin_data\"\n",
    "\n",
    "image_test = []\n",
    "for folder in os.listdir(os.path.join(root, 'test')):\n",
    "    image_test.extend(os.listdir(os.path.join(root,'test',folder)))\n",
    "\n",
    "len(image_test)"
   ]
  },
  {
   "cell_type": "code",
   "execution_count": 42,
   "metadata": {},
   "outputs": [],
   "source": [
    "df_vaynen_test = df_vaynen[df_vaynen['image'].isin(image_test)].copy()\n",
    "df_vaynen_train = df_vaynen[~df_vaynen['image'].isin(image_test)].reset_index(drop=True)"
   ]
  },
  {
   "cell_type": "code",
   "execution_count": null,
   "metadata": {},
   "outputs": [
    {
     "data": {
      "text/plain": [
       "11812"
      ]
     },
     "execution_count": 49,
     "metadata": {},
     "output_type": "execute_result"
    }
   ],
   "source": [
    "image_train = []\n",
    "for folder in os.listdir(os.path.join(root, 'train')):\n",
    "    image_train.extend(os.listdir(os.path.join(root,'train',folder)))\n",
    "\n",
    "df_vaynen_train['image'].isin(image_train).sum()\n"
   ]
  },
  {
   "cell_type": "code",
   "execution_count": 50,
   "metadata": {},
   "outputs": [],
   "source": [
    "import pandas as pd\n",
    "\n",
    "# Save data to CSV files\n",
    "df_vaynen_test.to_csv(\"data/vaynen_test.csv\", index=False)\n",
    "df_vaynen_train.to_csv(\"data/vaynen_train.csv\", index=False)"
   ]
  },
  {
   "cell_type": "code",
   "execution_count": null,
   "metadata": {},
   "outputs": [],
   "source": [
    "import pandas as pd \n",
    "import os\n",
    "\n",
    "df = pd.read_csv(\"./data/vaynen_test.csv\", delimiter=',')\n",
    "for i in range(len(df['image'])):\n",
    "    df['image'][i] = os.path.join('test', str(int(df['label_id'][i])), df['image'][i])\n",
    "\n",
    "df.head()\n"
   ]
  },
  {
   "cell_type": "code",
   "execution_count": 2,
   "metadata": {},
   "outputs": [],
   "source": [
    "import pandas as pd\n",
    "\n",
    "df = pd.read_csv(\"./data/vaynen_test.csv\", delimiter=',')\n",
    "df['image'] = df['image'].apply(lambda x: x.replace('\\\\', '/'))\n",
    "df.to_csv(\"./data/vaynen_test_linux.csv\", index=False)\n"
   ]
  },
  {
   "cell_type": "code",
   "execution_count": 1,
   "metadata": {},
   "outputs": [
    {
     "data": {
      "text/plain": [
       "0"
      ]
     },
     "execution_count": 1,
     "metadata": {},
     "output_type": "execute_result"
    }
   ],
   "source": [
    "import pandas as pd\n",
    "\n",
    "# Load the CSV file into a DataFrame\n",
    "df = pd.read_csv(\"data/vaynen_train_linux.csv\")\n",
    "df['label_id'].isna().sum()"
   ]
  },
  {
   "cell_type": "code",
   "execution_count": 2,
   "metadata": {},
   "outputs": [
    {
     "data": {
      "text/plain": [
       "True"
      ]
     },
     "execution_count": 2,
     "metadata": {},
     "output_type": "execute_result"
    }
   ],
   "source": [
    "import pandas as pd\n",
    "\n",
    "#Load single threaded csv\n",
    "single_thread_df = pd.read_csv(\"./data/vaynen_test_fos.csv\")\n",
    "\n",
    "#Load multi threaded csv\n",
    "multi_thread_df = pd.read_csv(\"test.csv\")\n",
    "\n",
    "single_thread_df.equals(multi_thread_df)"
   ]
  }
 ],
 "metadata": {
  "kernelspec": {
   "display_name": "base",
   "language": "python",
   "name": "python3"
  },
  "language_info": {
   "codemirror_mode": {
    "name": "ipython",
    "version": 3
   },
   "file_extension": ".py",
   "mimetype": "text/x-python",
   "name": "python",
   "nbconvert_exporter": "python",
   "pygments_lexer": "ipython3",
   "version": "3.12.7"
  }
 },
 "nbformat": 4,
 "nbformat_minor": 2
}

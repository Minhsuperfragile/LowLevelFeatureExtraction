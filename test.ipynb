{
 "cells": [
  {
   "cell_type": "code",
   "execution_count": 2,
   "metadata": {},
   "outputs": [
    {
     "data": {
      "text/plain": [
       "<utils.dataset.CSVMetadataDataset at 0x7f242ee9ecf0>"
      ]
     },
     "execution_count": 2,
     "metadata": {},
     "output_type": "execute_result"
    }
   ],
   "source": [
    "from utils.dataset import *\n",
    "\n",
    "CSVMetadataDataset(csv_file=\"./vdcd_data/fos/train_fos.csv\", root_dir=\"../viemda/\", use_md=False, md_end=7)"
   ]
  },
  {
   "cell_type": "code",
   "execution_count": null,
   "metadata": {},
   "outputs": [],
   "source": [
    "from utils.tools import FilesProcessor\n",
    "from utils.constant import param_list\n",
    "\n",
    "FilesProcessor.create_result_df(column_name=[\"nn\"], feature_name=[feat['function'].__name__ for feat in param_list], n_class=3)"
   ]
  },
  {
   "cell_type": "code",
   "execution_count": 1,
   "metadata": {},
   "outputs": [
    {
     "data": {
      "text/html": [
       "<div>\n",
       "<style scoped>\n",
       "    .dataframe tbody tr th:only-of-type {\n",
       "        vertical-align: middle;\n",
       "    }\n",
       "\n",
       "    .dataframe tbody tr th {\n",
       "        vertical-align: top;\n",
       "    }\n",
       "\n",
       "    .dataframe thead th {\n",
       "        text-align: right;\n",
       "    }\n",
       "</style>\n",
       "<table border=\"1\" class=\"dataframe\">\n",
       "  <thead>\n",
       "    <tr style=\"text-align: right;\">\n",
       "      <th></th>\n",
       "      <th>name</th>\n",
       "      <th>score</th>\n",
       "    </tr>\n",
       "  </thead>\n",
       "  <tbody>\n",
       "    <tr>\n",
       "      <th>172</th>\n",
       "      <td>feature_2|swt_features\\n</td>\n",
       "      <td>0.5121212121212122</td>\n",
       "    </tr>\n",
       "    <tr>\n",
       "      <th>173</th>\n",
       "      <td>feature_6|swt_features\\n</td>\n",
       "      <td>0.33636363636363636</td>\n",
       "    </tr>\n",
       "    <tr>\n",
       "      <th>316</th>\n",
       "      <td>feature_1|gt_features\\n</td>\n",
       "      <td>0.28787878787878785</td>\n",
       "    </tr>\n",
       "    <tr>\n",
       "      <th>174</th>\n",
       "      <td>feature_0|swt_features\\n</td>\n",
       "      <td>0.2606060606060607</td>\n",
       "    </tr>\n",
       "    <tr>\n",
       "      <th>58</th>\n",
       "      <td>feature_5|lte_measures\\n</td>\n",
       "      <td>0.22727272727272724</td>\n",
       "    </tr>\n",
       "    <tr>\n",
       "      <th>317</th>\n",
       "      <td>feature_11|gt_features\\n</td>\n",
       "      <td>0.19696969696969696</td>\n",
       "    </tr>\n",
       "    <tr>\n",
       "      <th>318</th>\n",
       "      <td>feature_3|gt_features\\n</td>\n",
       "      <td>0.13636363636363635</td>\n",
       "    </tr>\n",
       "    <tr>\n",
       "      <th>175</th>\n",
       "      <td>feature_10|swt_features\\n</td>\n",
       "      <td>0.12121212121212122</td>\n",
       "    </tr>\n",
       "    <tr>\n",
       "      <th>190</th>\n",
       "      <td>feature_78|wp_features\\n</td>\n",
       "      <td>0.10606060606060608</td>\n",
       "    </tr>\n",
       "    <tr>\n",
       "      <th>191</th>\n",
       "      <td>feature_1|wp_features\\n</td>\n",
       "      <td>0.10606060606060608</td>\n",
       "    </tr>\n",
       "    <tr>\n",
       "      <th>59</th>\n",
       "      <td>feature_3|lte_measures\\n</td>\n",
       "      <td>0.10606060606060606</td>\n",
       "    </tr>\n",
       "    <tr>\n",
       "      <th>193</th>\n",
       "      <td>feature_7|wp_features\\n</td>\n",
       "      <td>0.09090909090909094</td>\n",
       "    </tr>\n",
       "    <tr>\n",
       "      <th>192</th>\n",
       "      <td>feature_5|wp_features\\n</td>\n",
       "      <td>0.09090909090909094</td>\n",
       "    </tr>\n",
       "    <tr>\n",
       "      <th>60</th>\n",
       "      <td>feature_1|lte_measures\\n</td>\n",
       "      <td>0.0909090909090909</td>\n",
       "    </tr>\n",
       "    <tr>\n",
       "      <th>176</th>\n",
       "      <td>feature_5|swt_features\\n</td>\n",
       "      <td>0.08484848484848478</td>\n",
       "    </tr>\n",
       "    <tr>\n",
       "      <th>194</th>\n",
       "      <td>feature_31|wp_features\\n</td>\n",
       "      <td>0.07575757575757575</td>\n",
       "    </tr>\n",
       "    <tr>\n",
       "      <th>195</th>\n",
       "      <td>feature_12|wp_features\\n</td>\n",
       "      <td>0.07575757575757575</td>\n",
       "    </tr>\n",
       "    <tr>\n",
       "      <th>196</th>\n",
       "      <td>feature_82|wp_features\\n</td>\n",
       "      <td>0.07575757575757575</td>\n",
       "    </tr>\n",
       "    <tr>\n",
       "      <th>177</th>\n",
       "      <td>feature_16|swt_features\\n</td>\n",
       "      <td>0.06060606060606061</td>\n",
       "    </tr>\n",
       "    <tr>\n",
       "      <th>178</th>\n",
       "      <td>feature_7|swt_features\\n</td>\n",
       "      <td>0.06060606060606061</td>\n",
       "    </tr>\n",
       "  </tbody>\n",
       "</table>\n",
       "</div>"
      ],
      "text/plain": [
       "                          name                score\n",
       "172   feature_2|swt_features\\n   0.5121212121212122\n",
       "173   feature_6|swt_features\\n  0.33636363636363636\n",
       "316    feature_1|gt_features\\n  0.28787878787878785\n",
       "174   feature_0|swt_features\\n   0.2606060606060607\n",
       "58    feature_5|lte_measures\\n  0.22727272727272724\n",
       "317   feature_11|gt_features\\n  0.19696969696969696\n",
       "318    feature_3|gt_features\\n  0.13636363636363635\n",
       "175  feature_10|swt_features\\n  0.12121212121212122\n",
       "190   feature_78|wp_features\\n  0.10606060606060608\n",
       "191    feature_1|wp_features\\n  0.10606060606060608\n",
       "59    feature_3|lte_measures\\n  0.10606060606060606\n",
       "193    feature_7|wp_features\\n  0.09090909090909094\n",
       "192    feature_5|wp_features\\n  0.09090909090909094\n",
       "60    feature_1|lte_measures\\n   0.0909090909090909\n",
       "176   feature_5|swt_features\\n  0.08484848484848478\n",
       "194   feature_31|wp_features\\n  0.07575757575757575\n",
       "195   feature_12|wp_features\\n  0.07575757575757575\n",
       "196   feature_82|wp_features\\n  0.07575757575757575\n",
       "177  feature_16|swt_features\\n  0.06060606060606061\n",
       "178   feature_7|swt_features\\n  0.06060606060606061"
      ]
     },
     "execution_count": 1,
     "metadata": {},
     "output_type": "execute_result"
    }
   ],
   "source": [
    "from utils.tools import FilesProcessor\n",
    "\n",
    "FilesProcessor.get_highest_importance_features(text_file=\"./vdcd_data/pfi_class1_result.txt\")"
   ]
  },
  {
   "cell_type": "code",
   "execution_count": 7,
   "metadata": {},
   "outputs": [
    {
     "name": "stdout",
     "output_type": "stream",
     "text": [
      "{'jpg': 3831, 'png': 252}\n"
     ]
    }
   ],
   "source": [
    "import os\n",
    "\n",
    "imgs = os.listdir(\"../data_images_big/train/12\")\n",
    "img_type = {}\n",
    "\n",
    "for img in imgs:\n",
    "    ext = img.split('.')[-1]\n",
    "    if ext not in img_type:\n",
    "        img_type[ext] = 0\n",
    "    img_type[ext] += 1\n",
    "print(img_type)"
   ]
  },
  {
   "cell_type": "code",
   "execution_count": 7,
   "metadata": {},
   "outputs": [
    {
     "name": "stdout",
     "output_type": "stream",
     "text": [
      "400 files have been copied from Folder A to Folder B.\n"
     ]
    }
   ],
   "source": [
    "import os\n",
    "import shutil\n",
    "import random\n",
    "\n",
    "# Define paths for Folder A and Folder B\n",
    "folder_A = \"G:\\\\Code\\\\Dataset\\\\data_images_big\\\\test\\\\13\"\n",
    "folder_B = \"G:\\\\Code\\\\Python\\\\vaynen_small\\\\test\\\\13\"\n",
    "\n",
    "# Get the list of files in Folder A\n",
    "files_in_A = [f for f in os.listdir(folder_A) if os.path.isfile(os.path.join(folder_A, f))]\n",
    "\n",
    "# Ensure there are at least 400 files in Folder A\n",
    "if len(files_in_A) < 200:\n",
    "    print(\"Not enough files in Folder A to copy 400 files.\")\n",
    "else:\n",
    "    # Randomly select 400 files\n",
    "    selected_files = random.sample(files_in_A, 100)\n",
    "\n",
    "    # Copy each selected file to Folder B\n",
    "    for file in selected_files:\n",
    "        source_path = os.path.join(folder_A, file)\n",
    "        destination_path = os.path.join(folder_B, file)\n",
    "\n",
    "        # Copy the file\n",
    "        shutil.copy(source_path, destination_path)\n",
    "\n",
    "    print(\"400 files have been copied from Folder A to Folder B.\")\n"
   ]
  }
 ],
 "metadata": {
  "kernelspec": {
   "display_name": "base",
   "language": "python",
   "name": "python3"
  },
  "language_info": {
   "codemirror_mode": {
    "name": "ipython",
    "version": 3
   },
   "file_extension": ".py",
   "mimetype": "text/x-python",
   "name": "python",
   "nbconvert_exporter": "python",
   "pygments_lexer": "ipython3",
   "version": "3.12.4"
  }
 },
 "nbformat": 4,
 "nbformat_minor": 2
}

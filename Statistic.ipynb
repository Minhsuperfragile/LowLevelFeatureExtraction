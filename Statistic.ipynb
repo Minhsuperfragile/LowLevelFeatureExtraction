{
<<<<<<< HEAD
 "cells": [
  {
   "cell_type": "markdown",
   "metadata": {},
   "source": [
    "## Average size image"
   ]
  },
  {
   "cell_type": "code",
   "execution_count": 2,
   "metadata": {},
   "outputs": [],
   "source": [
    "import os\n",
    "import cv2\n",
    "import numpy as np\n",
    "import matplotlib.pyplot as plt"
   ]
  },
  {
   "cell_type": "code",
   "execution_count": 3,
   "metadata": {},
   "outputs": [],
   "source": [
    "dataset_path = \"C:/Users/Acer/skindata/skin_data\"  \n",
    "\n",
    "main_folders = [\"train\", \"test\"]\n",
    "\n",
    "total_height = 0\n",
    "total_width = 0\n",
    "num_images = 0\n",
    "pixel_values = []\n",
    "size_data = []\n",
    "brightness_values = []\n",
    "aspect_ratios = []\n",
    "edge_counts = []\n",
    "image_counts = {}"
   ]
  },
  {
   "cell_type": "code",
   "execution_count": 6,
   "metadata": {},
   "outputs": [],
   "source": [
    "# Function to get image sizes\n",
    "def get_image_stats(img):\n",
    "    h, w, _ = img.shape\n",
    "    return w, h\n",
    "\n",
    "# Function to calculate brightness\n",
    "def calculate_brightness(img):\n",
    "    gray = cv2.cvtColor(img, cv2.COLOR_BGR2GRAY)\n",
    "    return np.mean(gray)\n",
    "\n",
    "# Function to count edges using Canny edge detection\n",
    "def count_edges(img):\n",
    "    gray = cv2.cvtColor(img, cv2.COLOR_BGR2GRAY)\n",
    "    edges = cv2.Canny(gray, 100, 200)\n",
    "    return np.sum(edges > 0)"
   ]
  },
  {
   "cell_type": "code",
   "execution_count": 7,
   "metadata": {},
   "outputs": [],
   "source": [
    "# Loop through dataset\n",
    "for main_folder in main_folders:\n",
    "    main_folder_path = os.path.join(dataset_path, main_folder)\n",
    "\n",
    "    subfolders = [f for f in os.listdir(main_folder_path) if os.path.isdir(os.path.join(main_folder_path, f))]\n",
    "\n",
    "    for subfolder in subfolders:\n",
    "        subfolder_path = os.path.join(main_folder_path, subfolder)\n",
    "        \n",
    "        image_files = [f for f in os.listdir(subfolder_path) if f.endswith(('.jpg', '.jpeg', '.png'))]\n",
    "\n",
    "        # Count images per class\n",
    "        image_counts[f\"{main_folder}/{subfolder}\"] = len(image_files)\n",
    "\n",
    "        for img_file in image_files:\n",
    "            img_path = os.path.join(subfolder_path, img_file)\n",
    "            img = cv2.imread(img_path)\n",
    "            \n",
    "            if img is None:\n",
    "                continue  # Skip unreadable images\n",
    "\n",
    "            # Get image stats\n",
    "            width, height = get_image_stats(img)\n",
    "            size_data.append((width, height))\n",
    "            total_width += width\n",
    "            total_height += height\n",
    "            num_images += 1\n",
    "\n",
    "            # Brightness\n",
    "            brightness_values.append(calculate_brightness(img))\n",
    "\n",
    "            # Aspect Ratio\n",
    "            aspect_ratios.append(width / height)\n",
    "\n",
    "            # Edge detection\n",
    "            edge_counts.append(count_edges(img))\n"
   ]
  },
  {
   "cell_type": "code",
   "execution_count": 8,
   "metadata": {},
   "outputs": [],
   "source": [
    "# Convert to NumPy arrays for statistical analysis\n",
    "size_data = np.array(size_data)\n",
    "brightness_values = np.array(brightness_values)\n",
    "aspect_ratios = np.array(aspect_ratios)\n",
    "edge_counts = np.array(edge_counts)\n",
    "\n",
    "# Compute statistics\n",
    "mean_size = np.mean(size_data, axis=0)\n",
    "min_size = np.min(size_data, axis=0)\n",
    "max_size = np.max(size_data, axis=0)\n",
    "\n",
    "mean_brightness = np.mean(brightness_values)\n",
    "std_brightness = np.std(brightness_values)\n",
    "\n",
    "mean_aspect_ratio = np.mean(aspect_ratios)\n",
    "std_aspect_ratio = np.std(aspect_ratios)\n",
    "\n",
    "mean_edges = np.mean(edge_counts)\n",
    "std_edges = np.std(edge_counts)"
   ]
  },
  {
   "cell_type": "code",
   "execution_count": 9,
   "metadata": {},
   "outputs": [
    {
     "name": "stdout",
     "output_type": "stream",
     "text": [
      "\n",
      "🖼️ **Image Statistics Summary** 🖼️\n",
      "\n",
      "📌 Total Images: 14890\n",
      "📏 Image Size - Mean: [377.98159839 370.30449966], Min: [27 28], Max: [3024 3936]\n",
      "💡 Brightness - Mean: 132.93, Std Dev: 27.00\n",
      "📐 Aspect Ratio - Mean: 1.07, Std Dev: 0.42\n",
      "🖊️ Edge Count - Mean: 9049.01, Std Dev: 23719.49\n",
      "\n",
      "📊 **Image Distribution per Class:**\n",
      "  - train/12: 5381 images\n",
      "  - train/13: 3555 images\n",
      "  - train/14: 2876 images\n",
      "  - test/12: 584 images\n",
      "  - test/13: 356 images\n",
      "  - test/14: 230 images\n"
     ]
    }
   ],
   "source": [
    "# Print statistics\n",
    "print(\"\\n🖼️ **Image Statistics Summary** 🖼️\\n\")\n",
    "print(f\"📌 Total Images: {num_images}\")\n",
    "print(f\"📏 Image Size - Mean: {mean_size}, Min: {min_size}, Max: {max_size}\")\n",
    "print(f\"💡 Brightness - Mean: {mean_brightness:.2f}, Std Dev: {std_brightness:.2f}\")\n",
    "print(f\"📐 Aspect Ratio - Mean: {mean_aspect_ratio:.2f}, Std Dev: {std_aspect_ratio:.2f}\")\n",
    "print(f\"🖊️ Edge Count - Mean: {mean_edges:.2f}, Std Dev: {std_edges:.2f}\\n\")\n",
    "\n",
    "print(\"📊 **Image Distribution per Class:**\")\n",
    "for key, count in image_counts.items():\n",
    "    print(f\"  - {key}: {count} images\")"
   ]
  },
  {
   "cell_type": "code",
   "execution_count": 15,
   "metadata": {},
   "outputs": [
    {
     "data": {
      "image/png": "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",
      "text/plain": [
       "<Figure size 1200x500 with 2 Axes>"
      ]
     },
     "metadata": {},
     "output_type": "display_data"
    }
   ],
   "source": [
    "# Plot histograms\n",
    "plt.figure(figsize=(12, 5))\n",
    "\n",
    "# Brightness Distribution\n",
    "plt.subplot(1, 2, 1)\n",
    "plt.hist(brightness_values, bins=30, color='blue', alpha=0.7)\n",
    "plt.xlabel(\"Brightness Level\")\n",
    "plt.ylabel(\"Frequency\")\n",
    "plt.title(\"Brightness Distribution\")\n",
    "\n",
    "\n",
    "# Aspect Ratio Distribution\n",
    "plt.subplot(1, 2, 2)\n",
    "plt.hist(aspect_ratios, bins=30, color='green', alpha=0.7)\n",
    "plt.xlabel(\"Aspect Ratio\")\n",
    "plt.ylabel(\"Frequency\")\n",
    "plt.title(\"Aspect Ratio Distribution\")\n",
    "plt.savefig(\"Aspect_Ratio.png\", dpi=300)\n",
    "plt.show()"
   ]
  },
  {
   "cell_type": "code",
   "execution_count": 11,
   "metadata": {},
   "outputs": [
    {
     "name": "stdout",
     "output_type": "stream",
     "text": [
      "✅ Statistics saved to image_statistics.csv\n"
     ]
    }
   ],
   "source": [
    "import pandas as pd\n",
    "df = pd.DataFrame({\n",
    "    \"Mean_Size_Width\": [mean_size[0]], \n",
    "    \"Mean_Size_Height\": [mean_size[1]], \n",
    "    \"Min_Width\": [min_size[0]], \n",
    "    \"Min_Height\": [min_size[1]], \n",
    "    \"Max_Width\": [max_size[0]], \n",
    "    \"Max_Height\": [max_size[1]], \n",
    "    \"Mean_Brightness\": [mean_brightness], \n",
    "    \"Std_Brightness\": [std_brightness],\n",
    "    \"Mean_Aspect_Ratio\": [mean_aspect_ratio], \n",
    "    \"Std_Aspect_Ratio\": [std_aspect_ratio],\n",
    "    \"Mean_Edge_Count\": [mean_edges], \n",
    "    \"Std_Edge_Count\": [std_edges]\n",
    "})\n",
    "df.to_csv(\"image_statistics.csv\", index=False)\n",
    "print(\"✅ Statistics saved to image_statistics.csv\")\n"
   ]
  },
  {
   "cell_type": "code",
   "execution_count": null,
   "metadata": {},
   "outputs": [],
   "source": []
  }
 ],
 "metadata": {
  "kernelspec": {
   "display_name": "vay_nen",
   "language": "python",
   "name": "python3"
  },
  "language_info": {
   "codemirror_mode": {
    "name": "ipython",
    "version": 3
   },
   "file_extension": ".py",
   "mimetype": "text/x-python",
   "name": "python",
   "nbconvert_exporter": "python",
   "pygments_lexer": "ipython3",
   "version": "3.11.11"
=======
 "cells": [],
 "metadata": {
  "language_info": {
   "name": "python"
>>>>>>> 4ecd9b926e298b2ab85353e345827abd43f963af
  }
 },
 "nbformat": 4,
 "nbformat_minor": 2
}
